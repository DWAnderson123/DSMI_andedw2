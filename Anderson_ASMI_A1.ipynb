{
 "metadata": {
  "Daniel Anderson": "",
  "signature": "sha256:b3dab33150ae742330b90d8a40ff8cbc008b2bf913c8d31ef8e4036cd2348d3b"
 },
 "nbformat": 3,
 "nbformat_minor": 0,
 "worksheets": [
  {
   "cells": [
    {
     "cell_type": "markdown",
     "metadata": {},
     "source": [
      "Assignment 1\n",
      "Machine Learning and Data Science\n",
      "Daniel Anderson (andedw2)"
     ]
    },
    {
     "cell_type": "code",
     "collapsed": false,
     "input": [
      "# Setting up\n",
      "# Importing necessary libraries and utilities\n",
      "import pandas as pd\n",
      "import pylab as plt\n",
      "import numpy as np\n",
      "from sklearn import linear_model\n",
      "from sklearn.utils import shuffle\n",
      "from sklearn.preprocessing import StandardScaler\n",
      "\n",
      "# Reading in data\n",
      "data = pd.read_csv('crime.csv', index_col=0)\n",
      "print (data.head())\n",
      "\n",
      "# extract feature matrix and target vector\n",
      "# Feature Matrix\n",
      "feature_cols = ['Education','Police','Income','Inequality']\n",
      "# Target Vector\n",
      "target = ['Crime']\n",
      "# Loading into array\n",
      "X = np.array(data[feature_cols])\n",
      "Y = np.array(data[target])\n",
      "# Give em a shuffle\n",
      "X, Y = shuffle(X, Y, random_state=1)"
     ],
     "language": "python",
     "metadata": {},
     "outputs": []
    },
    {
     "cell_type": "markdown",
     "metadata": {},
     "source": [
      "Question 1. Plot the Education predictor/feature variable against Crime (the predictor should be on the x axis and crime on the y axis)."
     ]
    },
    {
     "cell_type": "code",
     "collapsed": false,
     "input": [
      "# 1. Plot Education vs Crime\n",
      "%matplotlib inline\n",
      "plt.scatter(X[:,0],Y)\n",
      "# Add labels\n",
      "plt.xlabel('Education')\n",
      "plt.ylabel('Crime');\n",
      "# Display Plot\n",
      "plt.show()"
     ],
     "language": "python",
     "metadata": {},
     "outputs": []
    },
    {
     "cell_type": "markdown",
     "metadata": {},
     "source": [
      "Question 2. Plot the Police predictor/feature variable against Crime."
     ]
    },
    {
     "cell_type": "code",
     "collapsed": false,
     "input": [
      "# 2. Plot Police vs Crime\n",
      "%matplotlib inline\n",
      "plt.scatter(X[:,1],Y)\n",
      "# Add labels\n",
      "plt.xlabel('Police')\n",
      "plt.ylabel('Crime');\n",
      "# Display Plot\n",
      "plt.show()"
     ],
     "language": "python",
     "metadata": {},
     "outputs": []
    },
    {
     "cell_type": "markdown",
     "metadata": {},
     "source": [
      "Question 3. Plot the Income predictor/feature variable against Crime."
     ]
    },
    {
     "cell_type": "code",
     "collapsed": false,
     "input": [
      "# 3. Plot Income vs Crime\n",
      "%matplotlib inline\n",
      "plt.scatter(X[:,2],Y)\n",
      "# Add labels\n",
      "plt.xlabel('Income')\n",
      "plt.ylabel('Crime');\n",
      "# Display Plot\n",
      "plt.show()"
     ],
     "language": "python",
     "metadata": {},
     "outputs": []
    },
    {
     "cell_type": "markdown",
     "metadata": {},
     "source": [
      "Question 4. Plot the Inequality predictor/feature variable against Crime."
     ]
    },
    {
     "cell_type": "code",
     "collapsed": false,
     "input": [
      "# 4. Plot Inequality vs Crime\n",
      "%matplotlib inline\n",
      "plt.scatter(X[:,3],Y)\n",
      "# Add labels\n",
      "plt.xlabel('Inequality')\n",
      "plt.ylabel('Crime');\n",
      "# Display Plot\n",
      "plt.show()"
     ],
     "language": "python",
     "metadata": {},
     "outputs": []
    },
    {
     "cell_type": "markdown",
     "metadata": {},
     "source": [
      "Question 5. Is the education variable positively or negatively correlated with crime?\n",
      "Answer 5. Negatively"
     ]
    },
    {
     "cell_type": "markdown",
     "metadata": {},
     "source": [
      "Question 6. Is the police variable positively or negatively correlated with crime?\n",
      "Answer 6. Positively"
     ]
    },
    {
     "cell_type": "markdown",
     "metadata": {},
     "source": [
      "Question 7. Split the data in 2 halves: training set and test set"
     ]
    },
    {
     "cell_type": "code",
     "collapsed": false,
     "input": [
      "# set training size to half\n",
      "train_set_size = int(X.shape[0]/2)\n",
      "# X\n",
      "X_train = X[:train_set_size, :] # select first half for train\n",
      "X_test = X[train_set_size:, :] # select last half for test\n",
      "# Display\n",
      "print(X_train.shape)\n",
      "print(X_test.shape)\n",
      "# Y\n",
      "Y_train = Y[:train_set_size] # select first half for train\n",
      "Y_test = Y[train_set_size:] # select last half for test\n",
      "# Display\n",
      "print(Y_train.shape)\n",
      "print(Y_test.shape)"
     ],
     "language": "python",
     "metadata": {},
     "outputs": []
    },
    {
     "cell_type": "markdown",
     "metadata": {},
     "source": [
      "Question 8. Fit a multivariate linear regression model on the training data using all the features available"
     ]
    },
    {
     "cell_type": "code",
     "collapsed": false,
     "input": [
      "# Import linear regression model\n",
      "model = linear_model.LinearRegression()\n",
      "\n",
      "#fitting to model\n",
      "model.fit(X_train, Y_train)"
     ],
     "language": "python",
     "metadata": {},
     "outputs": []
    },
    {
     "cell_type": "markdown",
     "metadata": {},
     "source": [
      "Question 9: What are the intercept ( \u03b80\u03b80 ) and coefficients ( \u03b81\u03b81 ,  \u03b82\u03b82 ,  \u03b83\u03b83  and  \u03b84\u03b84 ) of the model?\n",
      "Answer 9. The intercept coefficient is [-1455.49210253], The other coefficients are 0:-72.25192429, 1: 43.58467713, 2:0.28595797, 3: 61.61793052  "
     ]
    },
    {
     "cell_type": "code",
     "collapsed": false,
     "input": [
      "#print coefficients\n",
      "print(model.coef_) #theta1,2,3 and 4\n",
      "print(model.intercept_) #theta 0"
     ],
     "language": "python",
     "metadata": {},
     "outputs": []
    },
    {
     "cell_type": "markdown",
     "metadata": {},
     "source": [
      "Question 10. What is the  R2  score (i.e. the coefficient of determination that measures the proportion of the outcomes variation explained by the model) for the training data? and for the test data?\n",
      "Answer 10. The Coefficient of Determination is 0.664843765409"
     ]
    },
    {
     "cell_type": "code",
     "collapsed": false,
     "input": [
      "# Print R2 Score\n",
      "print(model.score(X_test, Y_test))"
     ],
     "language": "python",
     "metadata": {},
     "outputs": []
    },
    {
     "cell_type": "markdown",
     "metadata": {},
     "source": [
      "Question 11.  Given the following imaginary cities with the provided values for the predictors education, police, income and inequality, which city should have the highest level of crime according to your model?:\n",
      "Answer 11. City 2"
     ]
    },
    {
     "cell_type": "markdown",
     "metadata": {},
     "source": [
      "Question 12. Re-instantiate your linear regression model with the parameter fit_intercept set to False and rerun your analysis on the entire feature matrix  XX . When we set the fit_intercept to False we are basically fitting a model with no intercept parameter  \u03b80\u03b80 . Output the coefficients you get for  \u03b81...\u03b84\u03b81...\u03b84 ."
     ]
    },
    {
     "cell_type": "code",
     "collapsed": false,
     "input": [
      "# Set fit intercept to false\n",
      "model = linear_model.LinearRegression(fit_intercept=False)\n",
      "# Refit model\n",
      "model.fit(X_train, Y_train);\n",
      "\n",
      "#Reprint Coefficients\n",
      "print(model.coef_)"
     ],
     "language": "python",
     "metadata": {},
     "outputs": []
    },
    {
     "cell_type": "markdown",
     "metadata": {},
     "source": [
      "Question 13. Calculate the coefficients for  \u03b81...\u03b84\u03b81...\u03b84  using the analytical/close form solution of linear regression. Make sure those estimates coincide with what you get in Exercise 12 to be certain you got it right. Use the matrix algebra functionality provided by the numpy library to find the optimal vector  \u03b8\u03b8 . Provide the line of code you created to calculate the solution."
     ]
    },
    {
     "cell_type": "markdown",
     "metadata": {},
     "source": [
      "Question 14. Read the data from the file into the appropriate  X  and  y  data structures and shuffle it."
     ]
    },
    {
     "cell_type": "code",
     "collapsed": false,
     "input": [
      "# read in file\n",
      "data = pd.read_csv('churn.csv', index_col=0)\n",
      "\n",
      "#Feature Matrix for Churn\n",
      "feature_cols = ['Account Length','Int\\'l Plan','VMail Plan','VMail Message','Day Mins','Day Calls','Day Charge','Eve Mins','Eve Calls','Eve Charge','Night Mins','Night Calls','Night Charge','Intl Mins','Intl Calls','Intl Charge','CustServ Calls']\n",
      "# Target Vector\n",
      "target = ['label']\n",
      "# Loading into array\n",
      "X = np.array(data[feature_cols])\n",
      "Y = np.array(data[target])\n",
      "# Give em a shuffle too\n",
      "X, Y = shuffle(X, Y, random_state=1)"
     ],
     "language": "python",
     "metadata": {},
     "outputs": []
    },
    {
     "cell_type": "markdown",
     "metadata": {},
     "source": [
      "Question 15. Split the data into a training set and test set (test set size should be 33%)"
     ]
    },
    {
     "cell_type": "code",
     "collapsed": false,
     "input": [
      "train_set_size = int(X.shape[0]/3)\n",
      "# X\n",
      "X_train = X[:(train_set_size*2), :] # select first two-thirds for train\n",
      "X_test = X[train_set_size:, :] # select last third for test\n",
      "print(X_train.shape)\n",
      "print(X_test.shape)\n",
      "# Y\n",
      "Y_train = Y[:(train_set_size*2)] # select first two-thirds for train\n",
      "Y_test = Y[train_set_size:] # select last third for test\n",
      "print(Y_train.shape)\n",
      "print(Y_test.shape)"
     ],
     "language": "python",
     "metadata": {},
     "outputs": []
    },
    {
     "cell_type": "markdown",
     "metadata": {},
     "source": [
      "Question 16. Scale the data using the StandardScaler class from scikit-learn"
     ]
    },
    {
     "cell_type": "code",
     "collapsed": false,
     "input": [
      "scaler = StandardScaler().fit(X)\n",
      "print(scaler.mean_)\n",
      "print(scaler.scale_)\n",
      "X_test_scaled = scaler.transform(X_test)\n",
      "print(X_test_scaled) "
     ],
     "language": "python",
     "metadata": {},
     "outputs": []
    },
    {
     "cell_type": "markdown",
     "metadata": {},
     "source": [
      "Question 17. Train a logistic regression model and estimate its performance on the test data\n",
      "Answer 17. 86.0486048605% accurate"
     ]
    },
    {
     "cell_type": "code",
     "collapsed": false,
     "input": [
      "from sklearn.linear_model import LogisticRegression\n",
      "logRegModel = LogisticRegression()\n",
      "logRegModel.fit(X_train, Y_train)\n",
      "print(\"Accuracy of logistic regression classifier on test set:\", logRegModel.score(X_test, Y_test))\n",
      "# 86% accurate"
     ],
     "language": "python",
     "metadata": {},
     "outputs": []
    },
    {
     "cell_type": "markdown",
     "metadata": {},
     "source": [
      "Question 18. Train a K nearest neighbors classifier and estimate its performance on the test data\n",
      "Answer 18. 88.3438343834% accurate"
     ]
    },
    {
     "cell_type": "code",
     "collapsed": false,
     "input": [
      "from sklearn.neighbors import KNeighborsClassifier\n",
      "# set number of neighours to 5\n",
      "knn = KNeighborsClassifier(n_neighbors=5) \n",
      "# fit model to data\n",
      "knn.fit(X_train, Y_train)\n",
      "print(\"Accuracy of KNN classifier on test set:\", knn.score(X_test, Y_test))\n",
      "# 88% accurate"
     ],
     "language": "python",
     "metadata": {},
     "outputs": []
    },
    {
     "cell_type": "markdown",
     "metadata": {},
     "source": [
      "Question 19. Train a Multilayer Perceptron (Artificial neural network) classifier and estimate its performance on the test data\n",
      "Answer 19. "
     ]
    },
    {
     "cell_type": "code",
     "collapsed": false,
     "input": [],
     "language": "python",
     "metadata": {},
     "outputs": []
    }
   ],
   "metadata": {}
  }
 ]
}